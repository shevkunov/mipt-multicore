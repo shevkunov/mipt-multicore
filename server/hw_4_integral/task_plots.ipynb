{
 "cells": [
  {
   "cell_type": "code",
   "execution_count": 20,
   "metadata": {
    "collapsed": true,
    "deletable": true,
    "editable": true
   },
   "outputs": [],
   "source": [
    "import numpy as np\n",
    "import matplotlib.pyplot as plt"
   ]
  },
  {
   "cell_type": "code",
   "execution_count": 21,
   "metadata": {
    "collapsed": false,
    "deletable": true,
    "editable": true
   },
   "outputs": [],
   "source": [
    "with open(\"times.txt\", \"rt\") as f:\n",
    "    data = np.array(eval(\"[\" + \"\".join(f.readlines()) + \"]\"))"
   ]
  },
  {
   "cell_type": "code",
   "execution_count": 22,
   "metadata": {
    "collapsed": false,
    "deletable": true,
    "editable": true,
    "scrolled": false
   },
   "outputs": [
    {
     "data": {
      "text/plain": [
       "array([[  1.        ,   3.14159265,  16.64378365,   3.14159265,  16.4523119 ],\n",
       "       [  2.        ,   3.70918087,   8.55195543,   3.70918087,\n",
       "          8.37571707],\n",
       "       [  3.        ,   3.86100665,   6.07820494,   3.86100665,\n",
       "          5.94490192],\n",
       "       [  4.        ,   3.91965861,   4.78319955,   3.91965861,\n",
       "          4.69646257],\n",
       "       [  5.        ,   3.9479112 ,   3.93393143,   3.9479112 ,\n",
       "          3.87344702],\n",
       "       [  6.        ,   3.96356826,   3.37531172,   3.96356826,   3.2517766 ],\n",
       "       [  7.        ,   3.97311753,   3.040579  ,   3.97311753,\n",
       "          3.01514237],\n",
       "       [  8.        ,   3.97935982,   2.73002995,   3.97935982,\n",
       "          2.66206432],\n",
       "       [  9.        ,   3.98365996,   2.38638498,   3.98365996,   2.374112  ],\n",
       "       [ 10.        ,   3.9867461 ,   2.16394112,   3.9867461 ,\n",
       "          2.16282495],\n",
       "       [ 11.        ,   3.98903503,   1.9748636 ,   3.98903503,\n",
       "          1.97424123],\n",
       "       [ 12.        ,   3.99077913,   1.79337009,   3.99077913,\n",
       "          1.77947699]])"
      ]
     },
     "execution_count": 22,
     "metadata": {},
     "output_type": "execute_result"
    }
   ],
   "source": [
    "data"
   ]
  },
  {
   "cell_type": "code",
   "execution_count": 23,
   "metadata": {
    "collapsed": false,
    "deletable": true,
    "editable": true
   },
   "outputs": [
    {
     "name": "stdout",
     "output_type": "stream",
     "text": [
      "range(1, 13)\n",
      "[[  1.           3.14159265  16.64378365   3.14159265  16.4523119 ]]\n",
      "[[ 2.          3.70918087  8.55195543  3.70918087  8.37571707]]\n",
      "[[ 3.          3.86100665  6.07820494  3.86100665  5.94490192]]\n",
      "[[ 4.          3.91965861  4.78319955  3.91965861  4.69646257]]\n",
      "[[ 5.          3.9479112   3.93393143  3.9479112   3.87344702]]\n",
      "[[ 6.          3.96356826  3.37531172  3.96356826  3.2517766 ]]\n",
      "[[ 7.          3.97311753  3.040579    3.97311753  3.01514237]]\n",
      "[[ 8.          3.97935982  2.73002995  3.97935982  2.66206432]]\n",
      "[[ 9.          3.98365996  2.38638498  3.98365996  2.374112  ]]\n",
      "[[ 10.           3.9867461    2.16394112   3.9867461    2.16282495]]\n",
      "[[ 11.           3.98903503   1.9748636    3.98903503   1.97424123]]\n",
      "[[ 12.           3.99077913   1.79337009   3.99077913   1.77947699]]\n"
     ]
    }
   ],
   "source": [
    "grid = range(1, int(data[:, 0].max() + 0.5) + 1)\n",
    "print(grid)\n",
    "means = [[], []]\n",
    "for i in grid:\n",
    "    print(data[data[:, 0] == i])\n",
    "    means[0].append(data[data[:, 0] == i, 2][0].mean())\n",
    "    means[1].append(data[data[:, 0] == i, 4][0].mean())"
   ]
  },
  {
   "cell_type": "code",
   "execution_count": 25,
   "metadata": {
    "collapsed": false,
    "deletable": true,
    "editable": true
   },
   "outputs": [
    {
     "data": {
      "image/png": "[encoded data removed]",
      "text/plain": [
       "<matplotlib.figure.Figure at 0x7f04620d4b38>"
      ]
     },
     "metadata": {},
     "output_type": "display_data"
    }
   ],
   "source": [
    "plt.figure(figsize=(14, 7))\n",
    "plt.plot(grid, means[0][0] / means[0], label=\"Ускорение (Критическая секция)\")\n",
    "plt.plot(grid, means[1][0] / means[1], label=\"Ускорение (свёртка)\")\n",
    "plt.xlabel(\"Процессы\", fontsize=15)\n",
    "plt.ylabel(\"Ускорение\", fontsize=15)\n",
    "plt.show()"
   ]
  },
  {
   "cell_type": "code",
   "execution_count": null,
   "metadata": {
    "collapsed": true,
    "deletable": true,
    "editable": true
   },
   "outputs": [],
   "source": []
  }
 ],
 "metadata": {
  "kernelspec": {
   "display_name": "Python 3",
   "language": "python",
   "name": "python3"
  },
  "language_info": {
   "codemirror_mode": {
    "name": "ipython",
    "version": 3
   },
   "file_extension": ".py",
   "mimetype": "text/x-python",
   "name": "python",
   "nbconvert_exporter": "python",
   "pygments_lexer": "ipython3",
   "version": "3.5.2"
  }
 },
 "nbformat": 4,
 "nbformat_minor": 2
}
